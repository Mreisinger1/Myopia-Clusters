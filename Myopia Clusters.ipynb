{
 "cells": [
  {
   "cell_type": "code",
   "execution_count": null,
   "id": "fb6c24fd",
   "metadata": {},
   "outputs": [],
   "source": [
    "import pandas as pd"
   ]
  },
  {
   "cell_type": "code",
   "execution_count": null,
   "id": "95f3d052",
   "metadata": {},
   "outputs": [],
   "source": [
    "# Load data\n",
    "df = pd.read_csv(\"Resources/myopia.csv\")\n",
    "df.head()"
   ]
  },
  {
   "cell_type": "code",
   "execution_count": null,
   "id": "8e54defc",
   "metadata": {},
   "outputs": [],
   "source": [
    "new_df = df.drop(\"MYOPIC\", axis=1)\n",
    "new_df.head()"
   ]
  },
  {
   "cell_type": "code",
   "execution_count": null,
   "id": "eba20520",
   "metadata": {},
   "outputs": [],
   "source": [
    "# null values\n",
    "for column in new_df.columns:\n",
    "    print(f\"Column {column} has {new_df[column].isnull().sum()} null values\")"
   ]
  },
  {
   "cell_type": "code",
   "execution_count": null,
   "id": "837062d2",
   "metadata": {},
   "outputs": [],
   "source": [
    "# Scale data\n",
    "from sklearn.preprocessing import StandardScaler\n",
    "scaler = StandardScaler()\n",
    "scaled_data = scaler.fit_transform(new_df)\n",
    "scaled_data"
   ]
  },
  {
   "cell_type": "code",
   "execution_count": null,
   "id": "35379940",
   "metadata": {},
   "outputs": [],
   "source": [
    "# A list of the columns\n",
    "new_df.columns"
   ]
  },
  {
   "cell_type": "code",
   "execution_count": null,
   "id": "383e73ec",
   "metadata": {},
   "outputs": [],
   "source": [
    "# Create a DataFrame with transformed data\n",
    "Transformed_df = pd.DataFrame(scaled_data, columns = new_df.columns[:14])\n",
    "\n",
    "Transformed_df.head()"
   ]
  },
  {
   "cell_type": "markdown",
   "id": "3032b99f",
   "metadata": {},
   "source": [
    "PCA"
   ]
  },
  {
   "cell_type": "code",
   "execution_count": null,
   "id": "893e1428",
   "metadata": {},
   "outputs": [],
   "source": [
    "from sklearn.decomposition import PCA"
   ]
  },
  {
   "cell_type": "code",
   "execution_count": null,
   "id": "9acbacb9",
   "metadata": {},
   "outputs": [],
   "source": [
    "# Initialize PCA model\n",
    "pca = PCA(n_components=0.90)\n",
    "\n",
    "# Get two principal components for the data.\n",
    "myopia_pca = pca.fit_transform(scaled_data)\n",
    "myopia_pca"
   ]
  },
  {
   "cell_type": "code",
   "execution_count": null,
   "id": "b01923e0",
   "metadata": {},
   "outputs": [],
   "source": [
    "# Transform PCA data to a DataFrame\n",
    "df_pca = pd.DataFrame(data=myopia_pca)\n",
    "df_pca"
   ]
  },
  {
   "cell_type": "code",
   "execution_count": null,
   "id": "66316e81",
   "metadata": {},
   "outputs": [],
   "source": [
    "# explained variance\n",
    "pca.explained_variance_ratio_"
   ]
  },
  {
   "cell_type": "markdown",
   "id": "c68b68cb",
   "metadata": {},
   "source": [
    "t-SNE"
   ]
  },
  {
   "cell_type": "code",
   "execution_count": null,
   "id": "a76d845a",
   "metadata": {},
   "outputs": [],
   "source": [
    "from sklearn.manifold import TSNE\n",
    "import matplotlib.pyplot as plt\n",
    "from pathlib import Path"
   ]
  },
  {
   "cell_type": "code",
   "execution_count": null,
   "id": "1cd038b3",
   "metadata": {},
   "outputs": [],
   "source": [
    "# Initialize t-SNE model\n",
    "tsne = TSNE(learning_rate=35)"
   ]
  },
  {
   "cell_type": "code",
   "execution_count": null,
   "id": "6a7ae9ad",
   "metadata": {},
   "outputs": [],
   "source": [
    "# Reduce dimensions\n",
    "tsne_features = tsne.fit_transform(df_pca)"
   ]
  },
  {
   "cell_type": "code",
   "execution_count": null,
   "id": "e66f2ba0",
   "metadata": {},
   "outputs": [],
   "source": [
    "# The dataset has 2 columns\n",
    "tsne_features.shape"
   ]
  },
  {
   "cell_type": "code",
   "execution_count": null,
   "id": "164ec5f3",
   "metadata": {},
   "outputs": [],
   "source": [
    "# The first column of transformed features\n",
    "df_pca['x'] = tsne_features[:,0]\n",
    "\n",
    "# The second column of transformed features\n",
    "df_pca['y'] = tsne_features[:,1]"
   ]
  },
  {
   "cell_type": "code",
   "execution_count": null,
   "id": "5ae93845",
   "metadata": {
    "scrolled": true
   },
   "outputs": [],
   "source": [
    "# Visualize the clusters\n",
    "plt.scatter(df_pca['x'], df_pca['y'])\n",
    "plt.show()"
   ]
  },
  {
   "cell_type": "code",
   "execution_count": null,
   "id": "84cba643",
   "metadata": {},
   "outputs": [],
   "source": [
    "labels = df_pca['class']\n",
    "labels.value_counts()"
   ]
  },
  {
   "cell_type": "code",
   "execution_count": null,
   "id": "235da2b7",
   "metadata": {},
   "outputs": [],
   "source": [
    "# Visualize the clusters with color\n",
    "plt.scatter(df_pca['x'], df_pca['y'], c=labels)\n",
    "plt.show()"
   ]
  },
  {
   "cell_type": "markdown",
   "id": "403eec8f",
   "metadata": {},
   "source": [
    "K Means"
   ]
  },
  {
   "cell_type": "code",
   "execution_count": null,
   "id": "e24dc625",
   "metadata": {},
   "outputs": [],
   "source": [
    "from sklearn.cluster import KMeans"
   ]
  },
  {
   "cell_type": "code",
   "execution_count": null,
   "id": "fabee593",
   "metadata": {},
   "outputs": [],
   "source": [
    "inertia = []\n",
    "k = list(range(1, 10))\n",
    "\n",
    "# Calculate the inertia for the range of k values\n",
    "for i in k:\n",
    "    km = KMeans(n_clusters=i, random_state=0)\n",
    "    km.fit(df_pca)\n",
    "    inertia.append(km.inertia_)\n",
    "\n",
    "# Create the Elbow Curve using hvPlot\n",
    "elbow_data = {\"k\": k, \"inertia\": inertia}\n",
    "df_elbow = pd.DataFrame(elbow_data)\n",
    "df_elbow.head()"
   ]
  },
  {
   "cell_type": "code",
   "execution_count": null,
   "id": "edcdbb4d",
   "metadata": {},
   "outputs": [],
   "source": [
    "# Plot the elbow curve to find the best candidate(s) for k\n",
    "plt.plot(df_elbow[\"k\"], df_elbow[\"inertia\"])\n",
    "plt.xticks(range(1,10))\n",
    "plt.xlabel(\"Number of clusters\")\n",
    "plt.ylabel(\"Inertia\")\n",
    "plt.title(\"Elbow curve for Myopia Cluster Data\")\n",
    "plt.show()"
   ]
  },
  {
   "cell_type": "code",
   "execution_count": null,
   "id": "44db0417",
   "metadata": {},
   "outputs": [],
   "source": [
    "def get_clusters(k, df_pca):\n",
    "    # Initialize the K-Means model\n",
    "    model = KMeans(n_clusters=k, random_state=0)\n",
    "\n",
    "    # Train the model\n",
    "    model.fit(df_pca)\n",
    "\n",
    "    # Predict clusters\n",
    "    predictions = model.predict(df_pca)\n",
    "\n",
    "    # Create return DataFrame with predicted clusters\n",
    "    df_pca[\"class\"] = model.labels_\n",
    "\n",
    "    return df_pca"
   ]
  },
  {
   "cell_type": "code",
   "execution_count": null,
   "id": "0de7915c",
   "metadata": {},
   "outputs": [],
   "source": [
    "clusters = get_clusters(5, df_pca)\n",
    "clusters"
   ]
  },
  {
   "cell_type": "code",
   "execution_count": null,
   "id": "64afdfba",
   "metadata": {},
   "outputs": [],
   "source": [
    "def show_clusters(df):\n",
    "    plt.scatter(x=df_pca[\"x\"], y=df_pca[\"y\"], c=df_pca[\"class\"])\n",
    "    plt.xlabel(\"Number of clusters\")\n",
    "    plt.ylabel(\"Inertia\")\n",
    "\n",
    "    plt.show()"
   ]
  },
  {
   "cell_type": "code",
   "execution_count": null,
   "id": "47c38c8a",
   "metadata": {},
   "outputs": [],
   "source": [
    "show_clusters(clusters)"
   ]
  },
  {
   "cell_type": "markdown",
   "id": "02c83796",
   "metadata": {},
   "source": []
  },
  {
   "cell_type": "markdown",
   "id": "4e94fdb2",
   "metadata": {},
   "source": [
    "Recommendation: \n",
    "\n",
    "The patients should be clustered into 6 clusters, as both models show above. To get a better and more accurate result you should split the data into the test and training models to test and get more accurate results. A larger dataset would also help with accuracy in predicting the clusters."
   ]
  }
 ],
 "metadata": {
  "kernelspec": {
   "display_name": "PythonData38",
   "language": "python",
   "name": "pythondata38"
  },
  "language_info": {
   "codemirror_mode": {
    "name": "ipython",
    "version": 3
   },
   "file_extension": ".py",
   "mimetype": "text/x-python",
   "name": "python",
   "nbconvert_exporter": "python",
   "pygments_lexer": "ipython3",
   "version": "3.9.12"
  }
 },
 "nbformat": 4,
 "nbformat_minor": 5
}
